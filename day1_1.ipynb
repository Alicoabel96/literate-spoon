{
 "cells": [
  {
   "cell_type": "code",
   "execution_count": 1,
   "metadata": {},
   "outputs": [
    {
     "name": "stdout",
     "output_type": "stream",
     "text": [
      "ALIKO MATOLA\n"
     ]
    }
   ],
   "source": [
    "print (\"ALIKO MATOLA\")"
   ]
  },
  {
   "cell_type": "code",
   "execution_count": 2,
   "metadata": {},
   "outputs": [
    {
     "name": "stdout",
     "output_type": "stream",
     "text": [
      "does what it does\n"
     ]
    }
   ],
   "source": [
    "print (\"does what it does\")"
   ]
  },
  {
   "cell_type": "code",
   "execution_count": 6,
   "metadata": {},
   "outputs": [
    {
     "name": "stdout",
     "output_type": "stream",
     "text": [
      "ALIKO MATOLA\n"
     ]
    }
   ],
   "source": [
    "my_name= \"ALIKO MATOLA\"\n",
    "print (my_name)"
   ]
  },
  {
   "cell_type": "code",
   "execution_count": 10,
   "metadata": {},
   "outputs": [
    {
     "name": "stdout",
     "output_type": "stream",
     "text": [
      "this number is 12\n"
     ]
    }
   ],
   "source": [
    "my_interger = 12\n",
    "print (\"this number is\" ,my_interger)"
   ]
  },
  {
   "cell_type": "code",
   "execution_count": 1,
   "metadata": {},
   "outputs": [
    {
     "name": "stdout",
     "output_type": "stream",
     "text": [
      "please write your name aliko matola\n"
     ]
    },
    {
     "data": {
      "text/plain": [
       "'aliko matola'"
      ]
     },
     "execution_count": 1,
     "metadata": {},
     "output_type": "execute_result"
    }
   ],
   "source": [
    "  input(\"please write your name \")"
   ]
  },
  {
   "cell_type": "code",
   "execution_count": 3,
   "metadata": {},
   "outputs": [
    {
     "name": "stdout",
     "output_type": "stream",
     "text": [
      "enter an interger34\n",
      "68\n"
     ]
    }
   ],
   "source": [
    "data = int(input(\"enter an interger\"))\n",
    "print (data * 2)"
   ]
  },
  {
   "cell_type": "code",
   "execution_count": 4,
   "metadata": {},
   "outputs": [
    {
     "name": "stdout",
     "output_type": "stream",
     "text": [
      "24\n",
      "16\n"
     ]
    }
   ],
   "source": [
    "a = 12\n",
    "b = 8\n",
    "print ( a * 2)\n",
    "print ( b * 2)"
   ]
  },
  {
   "cell_type": "code",
   "execution_count": 42,
   "metadata": {},
   "outputs": [
    {
     "name": "stdout",
     "output_type": "stream",
     "text": [
      "enter an interger12\n",
      "the number you entered is a multiple digit.\n",
      "12\n"
     ]
    }
   ],
   "source": [
    "data = int(input(\"enter an interger\"))\n",
    "if data >= 10:\n",
    "    print (\"the number you entered is a multiple digit.\" )\n",
    "else:\n",
    "    print (\"the number you entered is a single digit.\" )\n",
    "print (data)\n",
    "   "
   ]
  },
  {
   "cell_type": "code",
   "execution_count": 1,
   "metadata": {},
   "outputs": [
    {
     "name": "stdout",
     "output_type": "stream",
     "text": [
      "enter an interger112\n",
      "2\n"
     ]
    }
   ],
   "source": [
    "i = int(input(\"enter an interger\"))\n",
    "while i >= 10:\n",
    "    i = i-10\n",
    "print(i)"
   ]
  },
  {
   "cell_type": "code",
   "execution_count": null,
   "metadata": {},
   "outputs": [],
   "source": []
  }
 ],
 "metadata": {
  "kernelspec": {
   "display_name": "Python 3",
   "language": "python",
   "name": "python3"
  },
  "language_info": {
   "codemirror_mode": {
    "name": "ipython",
    "version": 3
   },
   "file_extension": ".py",
   "mimetype": "text/x-python",
   "name": "python",
   "nbconvert_exporter": "python",
   "pygments_lexer": "ipython3",
   "version": "3.6.5"
  }
 },
 "nbformat": 4,
 "nbformat_minor": 2
}
